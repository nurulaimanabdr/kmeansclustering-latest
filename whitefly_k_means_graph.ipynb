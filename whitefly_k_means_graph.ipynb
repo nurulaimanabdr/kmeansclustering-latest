{
  "nbformat": 4,
  "nbformat_minor": 0,
  "metadata": {
    "colab": {
      "name": "whitefly - k means graph.ipynb",
      "provenance": [],
      "collapsed_sections": [],
      "authorship_tag": "ABX9TyPhT3vsZLLqRQ8Mx9UQBt79",
      "include_colab_link": true
    },
    "kernelspec": {
      "name": "python3",
      "display_name": "Python 3"
    },
    "language_info": {
      "name": "python"
    }
  },
  "cells": [
    {
      "cell_type": "markdown",
      "metadata": {
        "id": "view-in-github",
        "colab_type": "text"
      },
      "source": [
        "<a href=\"https://colab.research.google.com/github/nurulaimanabdr/kmeansclustering-latest/blob/kmeans_pest_detection/whitefly_k_means_graph.ipynb\" target=\"_parent\"><img src=\"https://colab.research.google.com/assets/colab-badge.svg\" alt=\"Open In Colab\"/></a>"
      ]
    },
    {
      "cell_type": "code",
      "execution_count": null,
      "metadata": {
        "id": "bfxTR0Qmcw1C"
      },
      "outputs": [],
      "source": [
        "import numpy as np\n",
        "import pandas as pd\n",
        "import matplotlib.pyplot as plt\n",
        "import csv\n",
        "import os\n",
        "from matplotlib.pyplot import figure\n",
        "from sklearn.cluster import KMeans\n",
        "from scipy.spatial.distance import cdist\n",
        "from sklearn.metrics import ConfusionMatrixDisplay\n",
        "from sklearn.metrics import accuracy_score\n",
        "from sklearn.metrics import make_scorer\n",
        "from sklearn.model_selection import cross_validate\n",
        "from sklearn.metrics import classification_report\n",
        "#import seaborn as sns\n",
        "%matplotlib inline"
      ]
    },
    {
      "cell_type": "code",
      "source": [
        "from google.colab import drive\n",
        "drive.mount(\"/content/gdrive\")"
      ],
      "metadata": {
        "colab": {
          "base_uri": "https://localhost:8080/"
        },
        "id": "l1S66FjgjBjE",
        "outputId": "6b99863e-b01b-4eef-e92f-a811a51ff09b"
      },
      "execution_count": null,
      "outputs": [
        {
          "output_type": "stream",
          "name": "stdout",
          "text": [
            "Mounted at /content/gdrive\n"
          ]
        }
      ]
    },
    {
      "cell_type": "code",
      "source": [
        "os.chdir('/content/gdrive/My Drive')"
      ],
      "metadata": {
        "id": "iJhoJjfBjKDP"
      },
      "execution_count": null,
      "outputs": []
    },
    {
      "cell_type": "code",
      "source": [
        "raw_data_1 = pd.read_csv('Colaboratory/whitefly_cluster 2_segmented_all data.csv')\n",
        "#raw_data_2 = pd.read_csv('Colaboratory/whitefly_cluster 2_segmented_train.csv')\n",
        "raw_data_3 = pd.read_csv('Colaboratory/whitefly_cluster 3_segmented_all data.csv')\n",
        "#raw_data_4 = pd.read_csv('Colaboratory/whitefly_cluster 3_segmented_train.csv')\n",
        "raw_data_5 = pd.read_csv('Colaboratory/whitefly_cluster 4_segmented_all data.csv')\n",
        "#raw_data_6 = pd.read_csv('Colaboratory/whitefly_cluster 4_segmented_train.csv')"
      ],
      "metadata": {
        "id": "UxTvb5W0d4CS"
      },
      "execution_count": null,
      "outputs": []
    },
    {
      "cell_type": "code",
      "source": [
        "#plt.title('k value = 2', loc='center')\n",
        "figure(figsize=(10, 6), dpi=80)\n",
        "#plt.scatter(*zip(*raw_data_1), marker = 'o', color = 'green')\n",
        "#plt.scatter(*zip(*raw_data_2), marker = 'o', color = 'black')\n",
        "plt.plot(raw_data_1[\"X\"], raw_data_1[\"Y\"], \"x\", color = 'purple', label = 'cluster 2')\n",
        "#plt.plot(raw_data_2[\"X\"], raw_data_2[\"Y\"], \"x\", color = 'purple', label = 'cluster 2 - train')\n",
        "plt.plot(raw_data_3[\"X\"], raw_data_3[\"Y\"], \"o\", color = 'black', label = 'cluster 3')\n",
        "#plt.plot(raw_data_4[\"X\"], raw_data_4[\"Y\"], \"x\", color = 'black', label = 'cluster 3 - train')\n",
        "plt.plot(raw_data_5[\"X\"], raw_data_5[\"Y\"], \"x\", color = 'blue', label = 'cluster 4')\n",
        "#plt.plot(raw_data_6[\"X\"], raw_data_6[\"Y\"], \"x\", color = 'blue', label = 'cluster 4 - train')\n",
        "plt.xlabel('Pixels')\n",
        "plt.ylabel('RGB Values - 1 array')\n",
        "plt.legend(loc=\"lower right\")"
      ],
      "metadata": {
        "colab": {
          "base_uri": "https://localhost:8080/",
          "height": 444
        },
        "id": "AspJG6UgnXnF",
        "outputId": "6c003e64-ccea-4884-cffe-093fceae5245"
      },
      "execution_count": null,
      "outputs": [
        {
          "output_type": "execute_result",
          "data": {
            "text/plain": [
              "<matplotlib.legend.Legend at 0x7fbfc7ab0c90>"
            ]
          },
          "metadata": {},
          "execution_count": 90
        },
        {
          "output_type": "display_data",
          "data": {
            "image/png": "[encoded data removed]",
            "text/plain": [
              "<Figure size 800x480 with 1 Axes>"
            ]
          },
          "metadata": {
            "needs_background": "light"
          }
        }
      ]
    },
    {
      "cell_type": "code",
      "source": [
        "km = KMeans(n_clusters = 2)\n",
        "clusters=km.fit_predict(raw_data_2)"
      ],
      "metadata": {
        "id": "MCF3vxZbHmY_"
      },
      "execution_count": null,
      "outputs": []
    },
    {
      "cell_type": "code",
      "source": [
        "km.labels_"
      ],
      "metadata": {
        "colab": {
          "base_uri": "https://localhost:8080/"
        },
        "id": "pANcSCQ3Hpmf",
        "outputId": "7d95036e-2cec-4eaf-9a1e-b5117e715ce0"
      },
      "execution_count": null,
      "outputs": [
        {
          "output_type": "execute_result",
          "data": {
            "text/plain": [
              "array([1, 0, 0, 1, 1, 0], dtype=int32)"
            ]
          },
          "metadata": {},
          "execution_count": 12
        }
      ]
    },
    {
      "cell_type": "code",
      "source": [
        "km.cluster_centers_"
      ],
      "metadata": {
        "colab": {
          "base_uri": "https://localhost:8080/"
        },
        "id": "XISJU2IUHr1J",
        "outputId": "c3a53f97-63d2-4a2d-82d1-90b34dbfe838"
      },
      "execution_count": null,
      "outputs": [
        {
          "output_type": "execute_result",
          "data": {
            "text/plain": [
              "array([[122.33333333, 168.33333333],\n",
              "       [ 27.        ,  70.33333333]])"
            ]
          },
          "metadata": {},
          "execution_count": 13
        }
      ]
    },
    {
      "cell_type": "code",
      "source": [
        "print (\"k value = 2\")\n",
        "#figure(figsize=(10, 6), dpi=80)\n",
        "plt.figure(figsize=(10, 6))\n",
        "#plt.scatter(*zip(*raw_data_1), marker = 'o', color = 'green')\n",
        "#plt.scatter(*zip(*raw_data_2), marker = 'o', color = 'black')\n",
        "plt.plot(raw_data_1[\"X\"], raw_data_1[\"Y\"], \"o\", color = 'purple', label = 'cluster 2 - test')\n",
        "plt.plot(raw_data_2[\"X\"], raw_data_2[\"Y\"], \"x\", color = 'purple', label = 'cluster 2 - train')\n",
        "plt.plot(raw_data_3[\"X\"], raw_data_3[\"Y\"], \"o\", color = 'black', label = 'cluster 3 - test')\n",
        "plt.plot(raw_data_4[\"X\"], raw_data_4[\"Y\"], \"x\", color = 'black', label = 'cluster 3 - train')\n",
        "plt.plot(raw_data_5[\"X\"], raw_data_5[\"Y\"], \"o\", color = 'blue', label = 'cluster 4 - test')\n",
        "plt.plot(raw_data_6[\"X\"], raw_data_6[\"Y\"], \"x\", color = 'blue', label = 'cluster 4 - train')\n",
        "plt.scatter(km.cluster_centers_[:,0], km.cluster_centers_[:,1], color='red', marker='+', label='centroid')\n",
        "plt.xlabel('Pixels')\n",
        "plt.ylabel('RGB Values - 1 array')\n",
        "plt.legend(loc=\"lower right\")"
      ],
      "metadata": {
        "colab": {
          "base_uri": "https://localhost:8080/",
          "height": 423
        },
        "id": "H3JVNrWOa-jS",
        "outputId": "ad168ca3-ba97-455a-e90f-b88a05b5d44b"
      },
      "execution_count": null,
      "outputs": [
        {
          "output_type": "stream",
          "name": "stdout",
          "text": [
            "k value = 2\n"
          ]
        },
        {
          "output_type": "execute_result",
          "data": {
            "text/plain": [
              "<matplotlib.legend.Legend at 0x7fbfc7c04a90>"
            ]
          },
          "metadata": {},
          "execution_count": 85
        },
        {
          "output_type": "display_data",
          "data": {
            "image/png": "[encoded data removed]",
            "text/plain": [
              "<Figure size 720x432 with 1 Axes>"
            ]
          },
          "metadata": {
            "needs_background": "light"
          }
        }
      ]
    },
    {
      "cell_type": "code",
      "source": [
        "y_train = [0, 1, 0, 0, 0, 0, 1, 1, 0, 1, 0, 0]\n",
        "y_test = [1, 0, 2, 0, 2, 2, 0, 0, 0, 1, 0, 1]"
      ],
      "metadata": {
        "id": "b9_K9t25H6I8"
      },
      "execution_count": null,
      "outputs": []
    },
    {
      "cell_type": "code",
      "source": [
        "accuracy_score(y_train, y_test)"
      ],
      "metadata": {
        "colab": {
          "base_uri": "https://localhost:8080/"
        },
        "id": "HckHn5VaJEWi",
        "outputId": "f552009f-e912-4882-b520-1f60e6e53256"
      },
      "execution_count": null,
      "outputs": [
        {
          "output_type": "execute_result",
          "data": {
            "text/plain": [
              "0.3333333333333333"
            ]
          },
          "metadata": {},
          "execution_count": 10
        }
      ]
    },
    {
      "cell_type": "code",
      "source": [
        "accuracy_score(y_train, y_test, normalize=True)"
      ],
      "metadata": {
        "colab": {
          "base_uri": "https://localhost:8080/"
        },
        "id": "mRGqshN_JIrQ",
        "outputId": "58635fbd-1109-4b46-d277-0242300e3f89"
      },
      "execution_count": null,
      "outputs": [
        {
          "output_type": "execute_result",
          "data": {
            "text/plain": [
              "0.3333333333333333"
            ]
          },
          "metadata": {},
          "execution_count": 11
        }
      ]
    },
    {
      "cell_type": "code",
      "source": [
        "print(classification_report(y_train, y_test))"
      ],
      "metadata": {
        "colab": {
          "base_uri": "https://localhost:8080/"
        },
        "id": "jBMAVFIOJP1U",
        "outputId": "3d78f1d7-cd1b-41a4-86a4-1dba4f0f463e"
      },
      "execution_count": null,
      "outputs": [
        {
          "output_type": "stream",
          "name": "stdout",
          "text": [
            "              precision    recall  f1-score   support\n",
            "\n",
            "           0       0.50      0.38      0.43         8\n",
            "           1       0.33      0.25      0.29         4\n",
            "           2       0.00      0.00      0.00         0\n",
            "\n",
            "    accuracy                           0.33        12\n",
            "   macro avg       0.28      0.21      0.24        12\n",
            "weighted avg       0.44      0.33      0.38        12\n",
            "\n"
          ]
        },
        {
          "output_type": "stream",
          "name": "stderr",
          "text": [
            "/usr/local/lib/python3.7/dist-packages/sklearn/metrics/_classification.py:1318: UndefinedMetricWarning: Recall and F-score are ill-defined and being set to 0.0 in labels with no true samples. Use `zero_division` parameter to control this behavior.\n",
            "  _warn_prf(average, modifier, msg_start, len(result))\n",
            "/usr/local/lib/python3.7/dist-packages/sklearn/metrics/_classification.py:1318: UndefinedMetricWarning: Recall and F-score are ill-defined and being set to 0.0 in labels with no true samples. Use `zero_division` parameter to control this behavior.\n",
            "  _warn_prf(average, modifier, msg_start, len(result))\n",
            "/usr/local/lib/python3.7/dist-packages/sklearn/metrics/_classification.py:1318: UndefinedMetricWarning: Recall and F-score are ill-defined and being set to 0.0 in labels with no true samples. Use `zero_division` parameter to control this behavior.\n",
            "  _warn_prf(average, modifier, msg_start, len(result))\n"
          ]
        }
      ]
    },
    {
      "cell_type": "code",
      "source": [
        "raw_data_1 = pd.read_csv('Colaboratory/whitefly_segmented_test.csv')\n",
        "raw_data_2 = pd.read_csv('Colaboratory/whitefly_segmented_train.csv')\n",
        "raw_data_3 = pd.read_csv('Colaboratory/whitefly_not segmented_test.csv')\n",
        "raw_data_4 = pd.read_csv('Colaboratory/whitefly_not segmented_train.csv')\n",
        "raw_data_5 = pd.read_csv('Colaboratory/whitefly_segmented_all data.csv')\n",
        "raw_data_6 = pd.read_csv('Colaboratory/whitefly_not segmented_all data.csv')"
      ],
      "metadata": {
        "id": "8z-xjREfPygL"
      },
      "execution_count": null,
      "outputs": []
    },
    {
      "cell_type": "code",
      "source": [
        "#plt.title('k value = 2', loc='center')\n",
        "figure(figsize=(10, 6), dpi=80)\n",
        "#plt.scatter(*zip(*raw_data_1), marker = 'o', color = 'green')\n",
        "#plt.scatter(*zip(*raw_data_2), marker = 'o', color = 'black')\n",
        "plt.plot(raw_data_1[\"X\"], raw_data_1[\"Y\"], \"o\", color = 'purple', label = 'segmented-test')\n",
        "plt.plot(raw_data_2[\"X\"], raw_data_2[\"Y\"], \"x\", color = 'purple', label = 'segmented-train')\n",
        "#plt.plot(raw_data_3[\"X\"], raw_data_3[\"Y\"], \"o\", color = 'black', label = 'not segmented-test')\n",
        "#plt.plot(raw_data_4[\"X\"], raw_data_4[\"Y\"], \"x\", color = 'black', label = 'not segmented-train')\n",
        "plt.xlabel('Pixels')\n",
        "plt.ylabel('RGB Values - 1 array')\n",
        "plt.legend(loc=\"lower right\")"
      ],
      "metadata": {
        "colab": {
          "base_uri": "https://localhost:8080/",
          "height": 444
        },
        "id": "XN1khV7SQkex",
        "outputId": "d160acf4-d25c-4b9b-b24e-3ee4c4afd498"
      },
      "execution_count": null,
      "outputs": [
        {
          "output_type": "execute_result",
          "data": {
            "text/plain": [
              "<matplotlib.legend.Legend at 0x7fbfca3889d0>"
            ]
          },
          "metadata": {},
          "execution_count": 18
        },
        {
          "output_type": "display_data",
          "data": {
            "image/png": "[encoded data removed]",
            "text/plain": [
              "<Figure size 800x480 with 1 Axes>"
            ]
          },
          "metadata": {
            "needs_background": "light"
          }
        }
      ]
    },
    {
      "cell_type": "code",
      "source": [
        "km = KMeans(n_clusters = 4)\n",
        "clusters=km.fit_predict(raw_data_4)"
      ],
      "metadata": {
        "id": "HHU9RrPZRBFV"
      },
      "execution_count": null,
      "outputs": []
    },
    {
      "cell_type": "code",
      "source": [
        "km.labels_"
      ],
      "metadata": {
        "colab": {
          "base_uri": "https://localhost:8080/"
        },
        "id": "mEE-TwhqRKID",
        "outputId": "fe81438c-d3b6-44ac-9716-a7624a34da91"
      },
      "execution_count": null,
      "outputs": [
        {
          "output_type": "execute_result",
          "data": {
            "text/plain": [
              "array([0, 1, 3, 2, 1, 3, 2, 1, 0], dtype=int32)"
            ]
          },
          "metadata": {},
          "execution_count": 82
        }
      ]
    },
    {
      "cell_type": "code",
      "source": [
        "km.cluster_centers_"
      ],
      "metadata": {
        "colab": {
          "base_uri": "https://localhost:8080/"
        },
        "id": "IupotcpKRODl",
        "outputId": "f41db800-0a83-4a26-d902-cfb51b767cfb"
      },
      "execution_count": null,
      "outputs": [
        {
          "output_type": "execute_result",
          "data": {
            "text/plain": [
              "array([[7.10542736e-15, 0.00000000e+00],\n",
              "       [1.67000000e+02, 1.73000000e+02],\n",
              "       [1.80000000e+02, 1.88000000e+02],\n",
              "       [0.00000000e+00, 0.00000000e+00]])"
            ]
          },
          "metadata": {},
          "execution_count": 80
        }
      ]
    },
    {
      "cell_type": "code",
      "source": [
        "print (\"k value = 3\")\n",
        "#figure(figsize=(10, 6), dpi=80)\n",
        "plt.figure(figsize=(10, 6))\n",
        "#plt.plot(raw_data_1[\"X\"], raw_data_1[\"Y\"], \"o\", color = 'purple', label = 'segmented-test')\n",
        "#plt.plot(raw_data_2[\"X\"], raw_data_2[\"Y\"], \"x\", color = 'black', label = 'segmented-train')\n",
        "plt.plot(raw_data_3[\"X\"], raw_data_3[\"Y\"], \"o\", color = 'purple', label = 'not segmented-test')\n",
        "plt.plot(raw_data_4[\"X\"], raw_data_4[\"Y\"], \"x\", color = 'black', label = 'not segmented-train')\n",
        "plt.scatter(km.cluster_centers_[:,0], km.cluster_centers_[:,1], color='red', marker='+', label='centroid')\n",
        "plt.xlabel('Pixels')\n",
        "plt.ylabel('RGB Values - 1 array')\n",
        "plt.legend(loc=\"lower right\")"
      ],
      "metadata": {
        "colab": {
          "base_uri": "https://localhost:8080/",
          "height": 423
        },
        "id": "BxZg99KIRUlF",
        "outputId": "36e58c65-da87-4f7a-bdf5-65f224ccfba0"
      },
      "execution_count": null,
      "outputs": [
        {
          "output_type": "stream",
          "name": "stdout",
          "text": [
            "k value = 3\n"
          ]
        },
        {
          "output_type": "execute_result",
          "data": {
            "text/plain": [
              "<matplotlib.legend.Legend at 0x7fbfca0aa0d0>"
            ]
          },
          "metadata": {},
          "execution_count": 59
        },
        {
          "output_type": "display_data",
          "data": {
            "image/png": "[encoded data removed]",
            "text/plain": [
              "<Figure size 720x432 with 1 Axes>"
            ]
          },
          "metadata": {
            "needs_background": "light"
          }
        }
      ]
    },
    {
      "cell_type": "code",
      "source": [
        "y_train = [0, 1, 3, 2, 1, 3, 2, 1, 0]\n",
        "y_test = [3, 3, 3, 1, 3, 3, 2, 3, 3]"
      ],
      "metadata": {
        "id": "1iltEZ5qdpIe"
      },
      "execution_count": null,
      "outputs": []
    },
    {
      "cell_type": "code",
      "source": [
        "accuracy_score(y_train, y_test)"
      ],
      "metadata": {
        "colab": {
          "base_uri": "https://localhost:8080/"
        },
        "id": "Jgr9BhpAd8LG",
        "outputId": "2c7cc67f-7921-4db4-91da-b3421f02afd5"
      },
      "execution_count": null,
      "outputs": [
        {
          "output_type": "execute_result",
          "data": {
            "text/plain": [
              "0.3333333333333333"
            ]
          },
          "metadata": {},
          "execution_count": 84
        }
      ]
    },
    {
      "cell_type": "code",
      "source": [
        "print(classification_report(y_train, y_test))"
      ],
      "metadata": {
        "colab": {
          "base_uri": "https://localhost:8080/"
        },
        "id": "JoWYVJ2peCjg",
        "outputId": "75fd2271-d905-4a71-be02-3cb8a3fbdc7d"
      },
      "execution_count": null,
      "outputs": [
        {
          "output_type": "stream",
          "name": "stdout",
          "text": [
            "              precision    recall  f1-score   support\n",
            "\n",
            "           0       0.25      0.60      0.35         5\n",
            "           1       0.25      0.20      0.22        10\n",
            "           2       0.43      0.25      0.32        12\n",
            "\n",
            "    accuracy                           0.30        27\n",
            "   macro avg       0.31      0.35      0.30        27\n",
            "weighted avg       0.33      0.30      0.29        27\n",
            "\n"
          ]
        }
      ]
    }
  ]
}