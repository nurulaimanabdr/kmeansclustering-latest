{
  "nbformat": 4,
  "nbformat_minor": 0,
  "metadata": {
    "colab": {
      "name": "kmeans 13 feb 2022",
      "provenance": [],
      "collapsed_sections": [],
      "authorship_tag": "ABX9TyOxRiyZpsinyCN3aRx/56V0",
      "include_colab_link": true
    },
    "kernelspec": {
      "name": "python3",
      "display_name": "Python 3"
    },
    "language_info": {
      "name": "python"
    }
  },
  "cells": [
    {
      "cell_type": "markdown",
      "metadata": {
        "id": "view-in-github",
        "colab_type": "text"
      },
      "source": [
        "<a href=\"https://colab.research.google.com/github/nurulaimanabdr/kmeansclustering-latest/blob/kmeans_pest_detection/kmeans_13_feb_2022.ipynb\" target=\"_parent\"><img src=\"https://colab.research.google.com/assets/colab-badge.svg\" alt=\"Open In Colab\"/></a>"
      ]
    },
    {
      "cell_type": "code",
      "execution_count": null,
      "metadata": {
        "id": "QstWjMy0H3re"
      },
      "outputs": [],
      "source": [
        "import numpy as np\n",
        "import matplotlib.pyplot as plt\n",
        "import matplotlib.image as mpimg\n",
        "from matplotlib import style\n",
        "#style.use('ggplot')\n",
        "import os\n",
        "import cv2\n",
        "import csv\n",
        "import sklearn\n",
        "import pandas as pd\n",
        "import sklearn.metrics as sm\n",
        "from PIL import Image\n",
        "from mpl_toolkits.mplot3d import Axes3D\n",
        "from sklearn.preprocessing import scale\n",
        "from sklearn.cluster import KMeans\n",
        "from sklearn import datasets\n",
        "from sklearn.metrics import confusion_matrix,classification_report\n",
        "from sklearn.metrics import ConfusionMatrixDisplay\n",
        "from sklearn.datasets import make_classification\n",
        "from sklearn.model_selection import train_test_split\n",
        "from sklearn.svm import SVC\n",
        "from tensorflow.keras.applications.vgg19 import VGG19\n",
        "from tensorflow.keras.preprocessing import image\n",
        "from tensorflow.keras.applications.vgg19 import preprocess_input\n",
        "from tensorflow.keras.models import Model\n",
        "from tensorflow.keras.preprocessing.image import load_img\n",
        "from tensorflow.keras.preprocessing.image import img_to_array\n",
        "from tqdm import tqdm"
      ]
    },
    {
      "cell_type": "code",
      "source": [
        "%matplotlib inline"
      ],
      "metadata": {
        "id": "iu1BKz5nYjSZ"
      },
      "execution_count": null,
      "outputs": []
    },
    {
      "cell_type": "code",
      "source": [
        "from google.colab import drive\n",
        "drive.mount(\"/content/gdrive\")"
      ],
      "metadata": {
        "colab": {
          "base_uri": "https://localhost:8080/"
        },
        "id": "B1O6INPpYlkC",
        "outputId": "bd113a88-0dd6-43a1-9b6a-432f25c1c212"
      },
      "execution_count": null,
      "outputs": [
        {
          "output_type": "stream",
          "name": "stdout",
          "text": [
            "Mounted at /content/gdrive\n"
          ]
        }
      ]
    },
    {
      "cell_type": "code",
      "source": [
        "os.chdir('/content/gdrive/My Drive')"
      ],
      "metadata": {
        "id": "BB-zsetoYnUF"
      },
      "execution_count": null,
      "outputs": []
    },
    {
      "cell_type": "code",
      "source": [
        "train_dir=\"Colaboratory/train/aphid/aphid_70\"\n",
        "test_dir=\"Colaboratory/test/aphid/aphid_70\"\n",
        "without_dir =\"Colaboratory/without segment\""
      ],
      "metadata": {
        "id": "SEBO3428inak"
      },
      "execution_count": null,
      "outputs": []
    },
    {
      "cell_type": "code",
      "source": [
        " path = os.path.join(without_dir)  "
      ],
      "metadata": {
        "id": "7U8bEhJGjzaN"
      },
      "execution_count": null,
      "outputs": []
    },
    {
      "cell_type": "code",
      "source": [
        "for img in tqdm(os.listdir(path)):  # iterate over each image whitefly\n",
        "            try:\n",
        "                img_array = cv2.imread(os.path.join(path,img) ,cv2.COLOR_BGR2RGB)  # convert to array\n",
        "                #new_array = cv2.resize(img_array, (IMG_SIZE, IMG_SIZE))  # resize to normalize data size\n",
        "                #training_data.append([new_array, class_num])  # add this to our training_data\n",
        "            except Exception as e:  # in the interest in keeping the output clean...\n",
        "                pass"
      ],
      "metadata": {
        "colab": {
          "base_uri": "https://localhost:8080/"
        },
        "id": "wsaRtHyYNHqg",
        "outputId": "43518428-4dbc-44a8-863b-ca4f325f1753"
      },
      "execution_count": null,
      "outputs": [
        {
          "output_type": "stream",
          "name": "stderr",
          "text": [
            "100%|██████████| 3/3 [00:00<00:00,  4.73it/s]\n"
          ]
        }
      ]
    },
    {
      "cell_type": "code",
      "source": [
        "#IMG_SIZE = 50\n",
        "#for img in os.listdir(path):  # iterate over each image whitefly\n",
        "    #img_array = cv2.imread(os.path.join(path,img), cv2.COLOR_BGR2RGB)  # convert to array\n",
        "    #new_array = cv2.resize(img_array, (IMG_SIZE, IMG_SIZE))\n",
        "    #plt.imshow(img_array)  # graph it\n",
        "    #plt.show()  # display!\n",
        "    #break\n",
        "#break"
      ],
      "metadata": {
        "id": "_PWUApFel9Xd"
      },
      "execution_count": null,
      "outputs": []
    },
    {
      "cell_type": "code",
      "source": [
        "print(img_array)"
      ],
      "metadata": {
        "colab": {
          "base_uri": "https://localhost:8080/"
        },
        "id": "172tRsG9mu0z",
        "outputId": "3be818ff-f901-4e1c-9275-14dea19cfb83"
      },
      "execution_count": null,
      "outputs": [
        {
          "output_type": "stream",
          "name": "stdout",
          "text": [
            "[[[ 62 115 102]\n",
            "  [ 64 117 104]\n",
            "  [ 65 118 105]\n",
            "  ...\n",
            "  [ 49  75  69]\n",
            "  [ 63  89  83]\n",
            "  [ 66  92  86]]\n",
            "\n",
            " [[ 58 111  98]\n",
            "  [ 61 114 101]\n",
            "  [ 63 116 103]\n",
            "  ...\n",
            "  [ 54  80  74]\n",
            "  [ 59  85  79]\n",
            "  [ 54  80  74]]\n",
            "\n",
            " [[ 62 115 102]\n",
            "  [ 64 117 104]\n",
            "  [ 67 120 107]\n",
            "  ...\n",
            "  [ 53  76  71]\n",
            "  [ 55  78  73]\n",
            "  [ 46  69  64]]\n",
            "\n",
            " ...\n",
            "\n",
            " [[ 77 122 113]\n",
            "  [ 77 122 113]\n",
            "  [ 77 122 113]\n",
            "  ...\n",
            "  [  1   3   3]\n",
            "  [  2   7   6]\n",
            "  [ 36  41  40]]\n",
            "\n",
            " [[ 78 123 114]\n",
            "  [ 75 120 111]\n",
            "  [ 73 118 109]\n",
            "  ...\n",
            "  [  5   7   7]\n",
            "  [ 10  15  14]\n",
            "  [ 48  53  52]]\n",
            "\n",
            " [[ 73 118 109]\n",
            "  [ 67 112 103]\n",
            "  [ 64 109 100]\n",
            "  ...\n",
            "  [ 52  54  54]\n",
            "  [ 61  66  65]\n",
            "  [102 107 106]]]\n"
          ]
        }
      ]
    },
    {
      "cell_type": "code",
      "source": [
        "print(img_array.shape)"
      ],
      "metadata": {
        "colab": {
          "base_uri": "https://localhost:8080/"
        },
        "id": "ZILYzSNqm1ca",
        "outputId": "0e25c1b2-cf5f-4e74-f324-51cd23a1465e"
      },
      "execution_count": null,
      "outputs": [
        {
          "output_type": "stream",
          "name": "stdout",
          "text": [
            "(264, 384, 3)\n"
          ]
        }
      ]
    },
    {
      "cell_type": "code",
      "source": [
        "A=img_array/255"
      ],
      "metadata": {
        "id": "u_193SRZngQ2"
      },
      "execution_count": null,
      "outputs": []
    },
    {
      "cell_type": "code",
      "source": [
        "ish=A.shape\n",
        "X=np.zeros((ish[0]*ish[1],4),np.float32)\n",
        "temp_1=np.zeros((ish[0],ish[1]),np.float32)\n",
        "for i in range(0,ish[0],1):\n",
        "    for j in range(0,ish[1],1):\n",
        "        temp_1[i,j]=(i+j)/450"
      ],
      "metadata": {
        "id": "vEBlszyQkCbX"
      },
      "execution_count": null,
      "outputs": []
    },
    {
      "cell_type": "code",
      "source": [
        "temp_1=np.reshape(temp_1,(ish[0]*ish[1]))        \n",
        "A_new=np.reshape(A,(ish[0]*ish[1],ish[2]))"
      ],
      "metadata": {
        "id": "tgI6hkyiqeoA"
      },
      "execution_count": null,
      "outputs": []
    },
    {
      "cell_type": "code",
      "source": [
        "#IMG_SIZE = 50\n",
        "#new_array = cv2.resize(img_array, (IMG_SIZE, IMG_SIZE))"
      ],
      "metadata": {
        "id": "VQYctacip6Ol"
      },
      "execution_count": null,
      "outputs": []
    },
    {
      "cell_type": "code",
      "source": [
        "X[:,0:3]=A_new\n",
        "X[:,3]=temp_1"
      ],
      "metadata": {
        "id": "T-rmdNC4kTCg"
      },
      "execution_count": null,
      "outputs": []
    },
    {
      "cell_type": "code",
      "source": [
        "X_1=np.float32(X)\n",
        "criteria = (cv2.TERM_CRITERIA_MAX_ITER, 60, 1.0)\n",
        "flags = cv2.KMEANS_RANDOM_CENTERS\n",
        "ret,labels,centers = cv2.kmeans(X_1,2,None,criteria,60,flags)"
      ],
      "metadata": {
        "id": "6k5suN_3i3zC"
      },
      "execution_count": null,
      "outputs": []
    },
    {
      "cell_type": "code",
      "source": [
        "centers=np.uint8(centers*255)"
      ],
      "metadata": {
        "id": "0OZ5fZPYo4M4"
      },
      "execution_count": null,
      "outputs": []
    },
    {
      "cell_type": "code",
      "source": [
        "centers=centers[:,0:3]\n",
        "res = centers[labels.flatten()]\n",
        "res2 = np.reshape(res,(ish[0],ish[1],ish[2]))\n",
        "#plt.imshow(res2)"
      ],
      "metadata": {
        "id": "G87rK36Ho6dY"
      },
      "execution_count": null,
      "outputs": []
    },
    {
      "cell_type": "code",
      "source": [
        "print(res2.shape)"
      ],
      "metadata": {
        "colab": {
          "base_uri": "https://localhost:8080/"
        },
        "id": "_ZlPP5Xdo-AY",
        "outputId": "20e4859a-bd6f-444c-d851-5ec885f9d8e4"
      },
      "execution_count": null,
      "outputs": [
        {
          "output_type": "stream",
          "name": "stdout",
          "text": [
            "(264, 384, 3)\n"
          ]
        }
      ]
    },
    {
      "cell_type": "code",
      "source": [
        "res2 = np.float32(res2)"
      ],
      "metadata": {
        "id": "ihE_8Ai4FagW"
      },
      "execution_count": null,
      "outputs": []
    },
    {
      "cell_type": "code",
      "source": [
        "res2"
      ],
      "metadata": {
        "colab": {
          "base_uri": "https://localhost:8080/"
        },
        "id": "lLsaHhoVpBQo",
        "outputId": "951f327d-623f-4200-ab06-28effad19754"
      },
      "execution_count": null,
      "outputs": [
        {
          "output_type": "execute_result",
          "data": {
            "text/plain": [
              "array([[[ 83., 138., 123.],\n",
              "        [ 83., 138., 123.],\n",
              "        [ 83., 138., 123.],\n",
              "        ...,\n",
              "        [ 33.,  47.,  45.],\n",
              "        [ 33.,  47.,  45.],\n",
              "        [ 33.,  47.,  45.]],\n",
              "\n",
              "       [[ 83., 138., 123.],\n",
              "        [ 83., 138., 123.],\n",
              "        [ 83., 138., 123.],\n",
              "        ...,\n",
              "        [ 33.,  47.,  45.],\n",
              "        [ 33.,  47.,  45.],\n",
              "        [ 33.,  47.,  45.]],\n",
              "\n",
              "       [[ 83., 138., 123.],\n",
              "        [ 83., 138., 123.],\n",
              "        [ 83., 138., 123.],\n",
              "        ...,\n",
              "        [ 33.,  47.,  45.],\n",
              "        [ 33.,  47.,  45.],\n",
              "        [ 33.,  47.,  45.]],\n",
              "\n",
              "       ...,\n",
              "\n",
              "       [[ 83., 138., 123.],\n",
              "        [ 83., 138., 123.],\n",
              "        [ 83., 138., 123.],\n",
              "        ...,\n",
              "        [ 33.,  47.,  45.],\n",
              "        [ 33.,  47.,  45.],\n",
              "        [ 33.,  47.,  45.]],\n",
              "\n",
              "       [[ 83., 138., 123.],\n",
              "        [ 83., 138., 123.],\n",
              "        [ 83., 138., 123.],\n",
              "        ...,\n",
              "        [ 33.,  47.,  45.],\n",
              "        [ 33.,  47.,  45.],\n",
              "        [ 33.,  47.,  45.]],\n",
              "\n",
              "       [[ 83., 138., 123.],\n",
              "        [ 83., 138., 123.],\n",
              "        [ 83., 138., 123.],\n",
              "        ...,\n",
              "        [ 33.,  47.,  45.],\n",
              "        [ 33.,  47.,  45.],\n",
              "        [ 33.,  47.,  45.]]], dtype=float32)"
            ]
          },
          "metadata": {},
          "execution_count": 25
        }
      ]
    },
    {
      "cell_type": "code",
      "source": [
        "print(centers)"
      ],
      "metadata": {
        "colab": {
          "base_uri": "https://localhost:8080/"
        },
        "id": "48Rn2ACrpC8N",
        "outputId": "6f040f0d-2922-48af-d7dc-3f4519080650"
      },
      "execution_count": null,
      "outputs": [
        {
          "output_type": "stream",
          "name": "stdout",
          "text": [
            "[[ 83 138 123]\n",
            " [ 33  47  45]]\n"
          ]
        }
      ]
    },
    {
      "cell_type": "code",
      "source": [
        "A = X_1[labels.ravel()==0]\n",
        "B = X_1[labels.ravel()==1]\n",
        "C = X_1[labels.ravel()==2]\n",
        "\n",
        "# Plot the data\n",
        "plt.scatter(A[:,0],A[:,1])\n",
        "plt.scatter(B[:,0],B[:,1],c = 'r')\n",
        "plt.scatter(C[:,0],C[:,1],c = 'g',label = 'cluster 3')\n",
        "#plt.scatter(centers[:,0],centers[:,1],s = 50,c = 'y', marker = 's')\n",
        "#plt.xlabel(''),plt.ylabel('')\n",
        "plt.show()"
      ],
      "metadata": {
        "colab": {
          "base_uri": "https://localhost:8080/",
          "height": 265
        },
        "id": "lFaWc0PxEqi2",
        "outputId": "a8713138-3345-46ac-a579-8af6cd493ff4"
      },
      "execution_count": null,
      "outputs": [
        {
          "output_type": "display_data",
          "data": {
            "image/png": "[encoded data removed]",
            "text/plain": [
              "<Figure size 432x288 with 1 Axes>"
            ]
          },
          "metadata": {
            "needs_background": "light"
          }
        }
      ]
    },
    {
      "cell_type": "code",
      "source": [
        "# This function should take in RGB image input\n",
        "def estimate_label(rgb_image):\n",
        "    \n",
        "    # TO-DO: Extract average brightness feature from an RGB image \n",
        "    avg = avg_brightness(rgb_image)\n",
        "        \n",
        "    # Use the avg brightness feature to predict a label (0, 1)\n",
        "    predicted_label = 0\n",
        "    # TO-DO: Try out different threshold values to see what works best!\n",
        "    threshold = 128\n",
        "    if(avg > threshold):\n",
        "        # if the average brightness is above the threshold value, we classify it as \"whitefly\"\n",
        "        predicted_label = 1\n",
        "    # else, the predicted_label can stay 0 (it is predicted to be \"whitefly\")\n",
        "    \n",
        "    return predicted_label    "
      ],
      "metadata": {
        "id": "nY4X4souVEg5"
      },
      "execution_count": null,
      "outputs": []
    },
    {
      "cell_type": "code",
      "source": [
        "km = KMeans(n_clusters = 2)\n",
        "clusters=km.fit_predict(centers)"
      ],
      "metadata": {
        "id": "PzarAftxPnLq"
      },
      "execution_count": null,
      "outputs": []
    },
    {
      "cell_type": "code",
      "source": [
        "km.labels_"
      ],
      "metadata": {
        "id": "M2T8H6zHP53i"
      },
      "execution_count": null,
      "outputs": []
    },
    {
      "cell_type": "code",
      "source": [
        "data = np.array ([[86, 173], [13, 105]]) "
      ],
      "metadata": {
        "id": "XGzkCQMpRDDi"
      },
      "execution_count": null,
      "outputs": []
    },
    {
      "cell_type": "code",
      "source": [
        "plt.title('Centroid value with n_clusters = 2', loc='center', fontsize=12)\n",
        "plt.scatter(*zip(*data), marker = 'o', color = 'green')\n",
        "plt.xlabel('Pixels')\n",
        "plt.ylabel('RGB values (1D-array)')"
      ],
      "metadata": {
        "id": "o-AKOzVlQc4K"
      },
      "execution_count": null,
      "outputs": []
    }
  ]
}